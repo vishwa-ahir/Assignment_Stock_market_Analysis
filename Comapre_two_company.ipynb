{
 "cells": [
  {
   "cell_type": "markdown",
   "id": "b1530d60",
   "metadata": {},
   "source": [
    "# Compare two or more companies based on their industry."
   ]
  },
  {
   "cell_type": "code",
   "execution_count": 1,
   "id": "2483eb62",
   "metadata": {},
   "outputs": [
    {
     "name": "stdout",
     "output_type": "stream",
     "text": [
      "     Company  Revenue  Profit  Market_Cap\n",
      "0      Apple      850     300        4000\n",
      "1  Microsoft     1000     400        7000\n",
      "2       Dell      600     200        2000\n",
      "3     Amazon      700     250        3000\n"
     ]
    }
   ],
   "source": [
    "import pandas as pd\n",
    "\n",
    "# Sample data for companies in the technology sector\n",
    "data = {\n",
    "    'Company': ['Apple', 'Microsoft', 'Dell', 'Amazon'],\n",
    "    'Revenue': [850, 1000, 600, 700],  # In millions of dollars\n",
    "    'Profit': [300, 400, 200, 250],  # In millions of dollars\n",
    "    'Market_Cap': [4000, 7000, 2000, 3000]  # In millions of dollars\n",
    "}\n",
    "\n",
    "# Create the DataFrame\n",
    "df = pd.DataFrame(data)\n",
    "\n",
    "# Display the DataFrame\n",
    "print(df)\n"
   ]
  },
  {
   "cell_type": "code",
   "execution_count": 2,
   "id": "9b15d29e",
   "metadata": {},
   "outputs": [
    {
     "name": "stdout",
     "output_type": "stream",
     "text": [
      "Companies sorted by Revenue:\n",
      "     Company  Revenue  Profit  Market_Cap\n",
      "1  Microsoft     1000     400        7000\n",
      "0      Apple      850     300        4000\n",
      "3     Amazon      700     250        3000\n",
      "2       Dell      600     200        2000\n"
     ]
    }
   ],
   "source": [
    "# Sort companies by revenue\n",
    "sorted_by_revenue = df.sort_values(by='Revenue', ascending=False)\n",
    "print(\"Companies sorted by Revenue:\")\n",
    "print(sorted_by_revenue)"
   ]
  },
  {
   "cell_type": "code",
   "execution_count": 3,
   "id": "e9bdb581",
   "metadata": {},
   "outputs": [
    {
     "name": "stdout",
     "output_type": "stream",
     "text": [
      "Companies sorted by Profit Margin:\n",
      "     Company  Revenue  Profit  Market_Cap  Profit_Margin\n",
      "1  Microsoft     1000     400        7000      40.000000\n",
      "3     Amazon      700     250        3000      35.714286\n",
      "0      Apple      850     300        4000      35.294118\n",
      "2       Dell      600     200        2000      33.333333\n"
     ]
    }
   ],
   "source": [
    "# Calculate profit margin and add it as a new column\n",
    "df['Profit_Margin'] = (df['Profit'] / df['Revenue']) * 100\n",
    "\n",
    "# Sort companies by profit margin\n",
    "sorted_by_profit_margin = df.sort_values(by='Profit_Margin', ascending=False)\n",
    "print(\"Companies sorted by Profit Margin:\")\n",
    "print(sorted_by_profit_margin)"
   ]
  },
  {
   "cell_type": "code",
   "execution_count": null,
   "id": "c98b787a",
   "metadata": {},
   "outputs": [],
   "source": []
  }
 ],
 "metadata": {
  "kernelspec": {
   "display_name": "Python 3 (ipykernel)",
   "language": "python",
   "name": "python3"
  },
  "language_info": {
   "codemirror_mode": {
    "name": "ipython",
    "version": 3
   },
   "file_extension": ".py",
   "mimetype": "text/x-python",
   "name": "python",
   "nbconvert_exporter": "python",
   "pygments_lexer": "ipython3",
   "version": "3.11.5"
  }
 },
 "nbformat": 4,
 "nbformat_minor": 5
}
